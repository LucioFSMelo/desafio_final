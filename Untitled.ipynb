{
 "cells": [
  {
   "cell_type": "markdown",
   "id": "623e687e",
   "metadata": {},
   "source": [
    "## 🏃‍♂️ <b>DESAFIO FINAL</b> 🤺\n",
    "🏢 TREINA RECIFE  \n",
    "👩‍🏫 REBECA VALQUEIRO  \n",
    "🧑‍🎓 LÚCIO FLAVIO  \n",
    "Neste desafio, vamos analisar a produtividade da cana-de-açúcar de uma cooperativa para ajudar na tomada de decisões."
   ]
  },
  {
   "cell_type": "markdown",
   "id": "7a4d9335",
   "metadata": {},
   "source": [
    "### <b>Bibliotecas Necessárias para Realização das Análises</b>\n",
    "<div class=\"alert alert-block alert-success\">\n",
    "* <b>PANDAS</b>  <br>\n",
    "* <b>NUMPY</b>  <br>\n",
    "* <b>MATPLOTLIB</b>  <br>\n",
    "* <b>SCIPY</b>  <br>\n",
    "* <b>SEABORN</b>\n",
    "</div>"
   ]
  },
  {
   "cell_type": "markdown",
   "id": "64de932f",
   "metadata": {},
   "source": [
    "### Instalando as bibliotecas: Matplotlib, Seaborn e Scipy  \n",
    "Usaremos o <b>pip</b> como gerenciador de pacotes para instalar as bibliotecas."
   ]
  },
  {
   "cell_type": "code",
   "execution_count": 1,
   "id": "5aea44ec",
   "metadata": {},
   "outputs": [
    {
     "name": "stdout",
     "output_type": "stream",
     "text": [
      "Requirement already satisfied: matplotlib in c:\\users\\luciu\\appdata\\local\\programs\\python\\python310\\lib\\site-packages (3.5.1)\n",
      "Requirement already satisfied: cycler>=0.10 in c:\\users\\luciu\\appdata\\local\\programs\\python\\python310\\lib\\site-packages (from matplotlib) (0.11.0)\n",
      "Requirement already satisfied: fonttools>=4.22.0 in c:\\users\\luciu\\appdata\\local\\programs\\python\\python310\\lib\\site-packages (from matplotlib) (4.31.1)\n",
      "Requirement already satisfied: kiwisolver>=1.0.1 in c:\\users\\luciu\\appdata\\local\\programs\\python\\python310\\lib\\site-packages (from matplotlib) (1.4.0)\n",
      "Requirement already satisfied: numpy>=1.17 in c:\\users\\luciu\\appdata\\local\\programs\\python\\python310\\lib\\site-packages (from matplotlib) (1.26.2)\n",
      "Requirement already satisfied: packaging>=20.0 in c:\\users\\luciu\\appdata\\local\\programs\\python\\python310\\lib\\site-packages (from matplotlib) (21.3)\n",
      "Requirement already satisfied: pillow>=6.2.0 in c:\\users\\luciu\\appdata\\local\\programs\\python\\python310\\lib\\site-packages (from matplotlib) (9.0.1)\n",
      "Requirement already satisfied: pyparsing>=2.2.1 in c:\\users\\luciu\\appdata\\local\\programs\\python\\python310\\lib\\site-packages (from matplotlib) (3.0.7)\n",
      "Requirement already satisfied: python-dateutil>=2.7 in c:\\users\\luciu\\appdata\\local\\programs\\python\\python310\\lib\\site-packages (from matplotlib) (2.8.2)\n",
      "Requirement already satisfied: six>=1.5 in c:\\users\\luciu\\appdata\\local\\programs\\python\\python310\\lib\\site-packages (from python-dateutil>=2.7->matplotlib) (1.16.0)\n",
      "Note: you may need to restart the kernel to use updated packages.\n"
     ]
    },
    {
     "name": "stderr",
     "output_type": "stream",
     "text": [
      "\n",
      "[notice] A new release of pip is available: 23.3.1 -> 25.1.1\n",
      "[notice] To update, run: C:\\Users\\luciu\\AppData\\Local\\Programs\\Python\\Python310\\python.exe -m pip install --upgrade pip\n"
     ]
    }
   ],
   "source": [
    "pip install matplotlib"
   ]
  },
  {
   "cell_type": "code",
   "execution_count": 2,
   "id": "8f2ecfb1",
   "metadata": {},
   "outputs": [
    {
     "name": "stdout",
     "output_type": "stream",
     "text": [
      "Requirement already satisfied: scipy in c:\\users\\luciu\\appdata\\local\\programs\\python\\python310\\lib\\site-packages (1.11.3)\n",
      "Requirement already satisfied: numpy<1.28.0,>=1.21.6 in c:\\users\\luciu\\appdata\\local\\programs\\python\\python310\\lib\\site-packages (from scipy) (1.26.2)\n",
      "Note: you may need to restart the kernel to use updated packages.\n"
     ]
    },
    {
     "name": "stderr",
     "output_type": "stream",
     "text": [
      "\n",
      "[notice] A new release of pip is available: 23.3.1 -> 25.1.1\n",
      "[notice] To update, run: C:\\Users\\luciu\\AppData\\Local\\Programs\\Python\\Python310\\python.exe -m pip install --upgrade pip\n"
     ]
    }
   ],
   "source": [
    "pip install scipy"
   ]
  },
  {
   "cell_type": "code",
   "execution_count": 24,
   "id": "c5f7016e",
   "metadata": {},
   "outputs": [
    {
     "name": "stdout",
     "output_type": "stream",
     "text": [
      "Collecting seabornNote: you may need to restart the kernel to use updated packages.\n",
      "  Downloading seaborn-0.13.2-py3-none-any.whl.metadata (5.4 kB)\n",
      "Requirement already satisfied: numpy!=1.24.0,>=1.20 in c:\\users\\luciu\\appdata\\local\\programs\\python\\python310\\lib\\site-packages (from seaborn) (1.26.2)\n",
      "Requirement already satisfied: pandas>=1.2 in c:\\users\\luciu\\appdata\\local\\programs\\python\\python310\\lib\\site-packages (from seaborn) (1.4.1)\n",
      "Requirement already satisfied: matplotlib!=3.6.1,>=3.4 in c:\\users\\luciu\\appdata\\local\\programs\\python\\python310\\lib\\site-packages (from seaborn) (3.5.1)\n",
      "Requirement already satisfied: cycler>=0.10 in c:\\users\\luciu\\appdata\\local\\programs\\python\\python310\\lib\\site-packages (from matplotlib!=3.6.1,>=3.4->seaborn) (0.11.0)\n",
      "\n"
     ]
    },
    {
     "name": "stderr",
     "output_type": "stream",
     "text": [
      "\n",
      "[notice] A new release of pip is available: 23.3.1 -> 25.1.1\n",
      "[notice] To update, run: C:\\Users\\luciu\\AppData\\Local\\Programs\\Python\\Python310\\python.exe -m pip install --upgrade pip\n"
     ]
    },
    {
     "name": "stdout",
     "output_type": "stream",
     "text": [
      "Requirement already satisfied: fonttools>=4.22.0 in c:\\users\\luciu\\appdata\\local\\programs\\python\\python310\\lib\\site-packages (from matplotlib!=3.6.1,>=3.4->seaborn) (4.31.1)\n",
      "Requirement already satisfied: kiwisolver>=1.0.1 in c:\\users\\luciu\\appdata\\local\\programs\\python\\python310\\lib\\site-packages (from matplotlib!=3.6.1,>=3.4->seaborn) (1.4.0)\n",
      "Requirement already satisfied: packaging>=20.0 in c:\\users\\luciu\\appdata\\local\\programs\\python\\python310\\lib\\site-packages (from matplotlib!=3.6.1,>=3.4->seaborn) (21.3)\n",
      "Requirement already satisfied: pillow>=6.2.0 in c:\\users\\luciu\\appdata\\local\\programs\\python\\python310\\lib\\site-packages (from matplotlib!=3.6.1,>=3.4->seaborn) (9.0.1)\n",
      "Requirement already satisfied: pyparsing>=2.2.1 in c:\\users\\luciu\\appdata\\local\\programs\\python\\python310\\lib\\site-packages (from matplotlib!=3.6.1,>=3.4->seaborn) (3.0.7)\n",
      "Requirement already satisfied: python-dateutil>=2.7 in c:\\users\\luciu\\appdata\\local\\programs\\python\\python310\\lib\\site-packages (from matplotlib!=3.6.1,>=3.4->seaborn) (2.8.2)\n",
      "Requirement already satisfied: pytz>=2020.1 in c:\\users\\luciu\\appdata\\local\\programs\\python\\python310\\lib\\site-packages (from pandas>=1.2->seaborn) (2021.3)\n",
      "Requirement already satisfied: six>=1.5 in c:\\users\\luciu\\appdata\\local\\programs\\python\\python310\\lib\\site-packages (from python-dateutil>=2.7->matplotlib!=3.6.1,>=3.4->seaborn) (1.16.0)\n",
      "Downloading seaborn-0.13.2-py3-none-any.whl (294 kB)\n",
      "   ---------------------------------------- 294.9/294.9 kB 1.8 MB/s eta 0:00:00\n",
      "Installing collected packages: seaborn\n",
      "Successfully installed seaborn-0.13.2\n"
     ]
    }
   ],
   "source": [
    "pip install seaborn"
   ]
  },
  {
   "cell_type": "markdown",
   "id": "7a20798e",
   "metadata": {},
   "source": [
    "### Importando as Bibliotecas Necessárias"
   ]
  },
  {
   "cell_type": "code",
   "execution_count": 2,
   "id": "9fdeceec",
   "metadata": {},
   "outputs": [],
   "source": [
    "import pandas as pd\n",
    "import numpy as np\n",
    "import matplotlib.pyplot as plt\n",
    "import seaborn as sns\n",
    "from scipy import stats"
   ]
  },
  {
   "cell_type": "markdown",
   "id": "612071a8",
   "metadata": {},
   "source": [
    "### 💻 Carregamento e Preparação dos dados"
   ]
  },
  {
   "cell_type": "code",
   "execution_count": 3,
   "id": "8cf3a286",
   "metadata": {},
   "outputs": [],
   "source": [
    "# Carregando o DataFrame\n",
    "df = pd.read_csv(\"cana_de_acucar_produtividade.csv\")"
   ]
  },
  {
   "cell_type": "code",
   "execution_count": 3,
   "id": "55dde6eb",
   "metadata": {},
   "outputs": [
    {
     "data": {
      "text/html": [
       "<div>\n",
       "<style scoped>\n",
       "    .dataframe tbody tr th:only-of-type {\n",
       "        vertical-align: middle;\n",
       "    }\n",
       "\n",
       "    .dataframe tbody tr th {\n",
       "        vertical-align: top;\n",
       "    }\n",
       "\n",
       "    .dataframe thead th {\n",
       "        text-align: right;\n",
       "    }\n",
       "</style>\n",
       "<table border=\"1\" class=\"dataframe\">\n",
       "  <thead>\n",
       "    <tr style=\"text-align: right;\">\n",
       "      <th></th>\n",
       "      <th>id_plantio</th>\n",
       "      <th>idade_muda_meses</th>\n",
       "      <th>fertilizante_kg_hectare</th>\n",
       "      <th>rendimento_ton_hectare</th>\n",
       "      <th>ph_solo</th>\n",
       "      <th>teor_sacarose_percent</th>\n",
       "      <th>regiao</th>\n",
       "    </tr>\n",
       "  </thead>\n",
       "  <tbody>\n",
       "    <tr>\n",
       "      <th>0</th>\n",
       "      <td>1</td>\n",
       "      <td>2</td>\n",
       "      <td>100</td>\n",
       "      <td>85.5</td>\n",
       "      <td>6.5</td>\n",
       "      <td>14.2</td>\n",
       "      <td>Mata Norte</td>\n",
       "    </tr>\n",
       "    <tr>\n",
       "      <th>1</th>\n",
       "      <td>2</td>\n",
       "      <td>3</td>\n",
       "      <td>120</td>\n",
       "      <td>92.1</td>\n",
       "      <td>6.8</td>\n",
       "      <td>15.1</td>\n",
       "      <td>Mata Norte</td>\n",
       "    </tr>\n",
       "    <tr>\n",
       "      <th>2</th>\n",
       "      <td>3</td>\n",
       "      <td>2</td>\n",
       "      <td>110</td>\n",
       "      <td>88.0</td>\n",
       "      <td>6.6</td>\n",
       "      <td>14.5</td>\n",
       "      <td>Mata Norte</td>\n",
       "    </tr>\n",
       "    <tr>\n",
       "      <th>3</th>\n",
       "      <td>4</td>\n",
       "      <td>4</td>\n",
       "      <td>130</td>\n",
       "      <td>95.0</td>\n",
       "      <td>7.0</td>\n",
       "      <td>15.5</td>\n",
       "      <td>Mata Norte</td>\n",
       "    </tr>\n",
       "    <tr>\n",
       "      <th>4</th>\n",
       "      <td>5</td>\n",
       "      <td>3</td>\n",
       "      <td>115</td>\n",
       "      <td>90.5</td>\n",
       "      <td>6.7</td>\n",
       "      <td>14.8</td>\n",
       "      <td>Mata Norte</td>\n",
       "    </tr>\n",
       "  </tbody>\n",
       "</table>\n",
       "</div>"
      ],
      "text/plain": [
       "   id_plantio  idade_muda_meses  fertilizante_kg_hectare  \\\n",
       "0           1                 2                      100   \n",
       "1           2                 3                      120   \n",
       "2           3                 2                      110   \n",
       "3           4                 4                      130   \n",
       "4           5                 3                      115   \n",
       "\n",
       "   rendimento_ton_hectare  ph_solo  teor_sacarose_percent      regiao  \n",
       "0                    85.5      6.5                   14.2  Mata Norte  \n",
       "1                    92.1      6.8                   15.1  Mata Norte  \n",
       "2                    88.0      6.6                   14.5  Mata Norte  \n",
       "3                    95.0      7.0                   15.5  Mata Norte  \n",
       "4                    90.5      6.7                   14.8  Mata Norte  "
      ]
     },
     "execution_count": 3,
     "metadata": {},
     "output_type": "execute_result"
    }
   ],
   "source": [
    "# Visualizando as cinco primeiras linhas\n",
    "df.head()"
   ]
  },
  {
   "cell_type": "code",
   "execution_count": 4,
   "id": "6a3b77cb",
   "metadata": {},
   "outputs": [
    {
     "name": "stdout",
     "output_type": "stream",
     "text": [
      "<class 'pandas.core.frame.DataFrame'>\n",
      "RangeIndex: 30 entries, 0 to 29\n",
      "Data columns (total 7 columns):\n",
      " #   Column                   Non-Null Count  Dtype  \n",
      "---  ------                   --------------  -----  \n",
      " 0   id_plantio               30 non-null     int64  \n",
      " 1   idade_muda_meses         30 non-null     int64  \n",
      " 2   fertilizante_kg_hectare  30 non-null     int64  \n",
      " 3   rendimento_ton_hectare   30 non-null     float64\n",
      " 4   ph_solo                  30 non-null     float64\n",
      " 5   teor_sacarose_percent    30 non-null     float64\n",
      " 6   regiao                   30 non-null     object \n",
      "dtypes: float64(3), int64(3), object(1)\n",
      "memory usage: 1.8+ KB\n"
     ]
    }
   ],
   "source": [
    "# Obtendo insformações do Data Frame\n",
    "df.info()"
   ]
  },
  {
   "cell_type": "code",
   "execution_count": 5,
   "id": "0af2b856",
   "metadata": {},
   "outputs": [
    {
     "data": {
      "text/plain": [
       "(30, 7)"
      ]
     },
     "execution_count": 5,
     "metadata": {},
     "output_type": "execute_result"
    }
   ],
   "source": [
    "# Dimensão do Data Frame\n",
    "df.shape"
   ]
  },
  {
   "cell_type": "markdown",
   "id": "697b27e5",
   "metadata": {},
   "source": [
    "🧠 <span style=\"color:blue\"><b>Breve resumo dos dados:</b></span>  \n",
    "O Data Frame a ser analisado possui 30 linhas non-null (não nulas) com sete colunas de atributos.  \n",
    "Os atributos estão divididos em 3 colunas do tipo inteiro, 3 colunas do tipo float e uma coluna do tipo string."
   ]
  },
  {
   "cell_type": "code",
   "execution_count": 6,
   "id": "611ca5ed",
   "metadata": {},
   "outputs": [
    {
     "data": {
      "text/plain": [
       "Index(['id_plantio', 'idade_muda_meses', 'fertilizante_kg_hectare',\n",
       "       'rendimento_ton_hectare', 'ph_solo', 'teor_sacarose_percent', 'regiao'],\n",
       "      dtype='object')"
      ]
     },
     "execution_count": 6,
     "metadata": {},
     "output_type": "execute_result"
    }
   ],
   "source": [
    "# Nomes dos atributos\n",
    "df.columns"
   ]
  },
  {
   "cell_type": "code",
   "execution_count": 4,
   "id": "78c6d9c6",
   "metadata": {},
   "outputs": [],
   "source": [
    "# Carregando os atributos em variáveis\n",
    "idade_muda, fertilize, rendimento = df['idade_muda_meses'], df['fertilizante_kg_hectare'], df['rendimento_ton_hectare']"
   ]
  },
  {
   "cell_type": "markdown",
   "id": "ebe1233f",
   "metadata": {},
   "source": [
    "### 🧮 Métricas de Tendência Central e Dispersão que usaremos nas análises  \n",
    "Calcularemos  \n",
    "<span style=\"color:blue\"><b>Medidas de Tendência Central:</b></span>\n",
    "* Média Aritmética  \n",
    "* Mediana  \n",
    "* Moda \n",
    "\n",
    "<span style=\"color:blue\"><b>Medidas de Dispersão:</b></span>\n",
    "* Variância  \n",
    "* Desvio Padrão  \n",
    "* Amplitude  \n",
    "    <span style=\"color:red\">A = lim(Max) - lim(min)</span>\n",
    "* Quartis  \n",
    "    <span style=\"color:red\">25%, 50%, 75%</span>\n",
    "* IIQ  \n",
    "    <span style=\"color:red\">IIQ = q3 - q1</span>"
   ]
  },
  {
   "cell_type": "code",
   "execution_count": 5,
   "id": "580b579c",
   "metadata": {},
   "outputs": [
    {
     "name": "stdout",
     "output_type": "stream",
     "text": [
      "========================================================================================================================\n",
      "Resumo Estatístico:\n",
      "IDADE DAS MUDAS\n",
      "A média das idades das mudas de cana-de-açúcar é 3.23 meses\n",
      "A mediana é 3.00 meses\n",
      "A frequência das idades é de 0    2\n",
      "1    3\n",
      "Name: idade_muda_meses, dtype: int64\n",
      "A varância populacional das idades é 1.0455555555555558\n",
      "O desvio padrão populacional das idades é 1.0225241100118647\n",
      "A amplitude das idades é 3\n",
      "Primeiro quartil (25%): 2.0 e terceiro quartil (75%): 4.0\n",
      "O intervalo inter quartil é 2.0\n",
      "\n",
      "Uso de Fertilizantes em Kg\n",
      "A média do uso de fertilizantes é 117.07 Kg\n",
      "A mediana de fertilizantes é 116.00 Kg\n",
      "A frequência do uso de fertilizantes é 0    100\n",
      "Name: fertilizante_kg_hectare, dtype: int64\n",
      "A varância populacional dos fertilizantes é 222.79555555555552\n",
      "O desvio padrão populacional dos fertilizantes é 14.926337647110746\n",
      "A amplitude dos dados dos fertilizantes é 50\n",
      "Primeiro quartil (25%): 102.75 e terceiro quartil (75%): 128.75\n",
      "O intervalo inter quartil dos dados dos fertilizantes é 26.0\n",
      "\n",
      "Rendimento por Hectares\n",
      "A média do rendimento das mudas por hectares é 90.65 Kg\n",
      "A mediana do rendimento é 90.25 Kg\n",
      "A frequência do rendimento é 0     82.5\n",
      "1     83.2\n",
      "2     83.5\n",
      "3     84.0\n",
      "4     84.5\n",
      "5     85.0\n",
      "6     85.5\n",
      "7     86.0\n",
      "8     87.0\n",
      "9     88.0\n",
      "10    88.5\n",
      "11    89.0\n",
      "12    89.2\n",
      "13    89.5\n",
      "14    90.0\n",
      "15    90.5\n",
      "16    91.0\n",
      "17    92.1\n",
      "18    93.5\n",
      "19    93.8\n",
      "20    94.0\n",
      "21    94.2\n",
      "22    94.5\n",
      "23    95.0\n",
      "24    95.8\n",
      "25    96.5\n",
      "26    97.5\n",
      "27    98.2\n",
      "28    98.5\n",
      "29    99.0\n",
      "Name: rendimento_ton_hectare, dtype: float64\n",
      "A varância populacional do rendimento é 24.68583333333333\n",
      "O desvio padrão populacional do rendimento é 4.9684840075553565\n",
      "A amplitude do rendimento é 16.5 Kg\n",
      "Primeiro quartil (25%): 86.25 e terceiro quartil(75%): 94.425\n",
      "O intervalo inter quartil é 8.174999999999997\n",
      "========================================================================================================================\n"
     ]
    }
   ],
   "source": [
    "# Métricas das idades das mudas (A idade das mudas é dada em meses)\n",
    "# Medidas de Tendências\n",
    "media_idade = idade_muda.mean()\n",
    "mediana_idade = idade_muda.median()\n",
    "moda_idade = idade_muda.mode()\n",
    "# Medidas de Dispersão\n",
    "dp_idade = idade_muda.std(ddof=0)\n",
    "var_idade = idade_muda.var(ddof=0)\n",
    "amplit_idade = idade_muda.max() - idade_muda.min()\n",
    "q1_idade = idade_muda.quantile(0.25)\n",
    "q3_idade = idade_muda.quantile(0.75)\n",
    "iiq_idade = q3_idade - q1_idade\n",
    "\n",
    "\n",
    "# Métricas dos fertilizantes\n",
    "# Tendências\n",
    "media_fertilize = fertilize.mean()\n",
    "mediana_fertilize = fertilize.median()\n",
    "moda_fertilize = fertilize.mode()\n",
    "# Dispersões\n",
    "dp_fertilize = fertilize.std(ddof=0)\n",
    "var_fertilize = fertilize.var(ddof=0)\n",
    "amplit_fertilize = fertilize.max() - fertilize.min()\n",
    "q1_fertilize = fertilize.quantile(0.25)\n",
    "q3_fertilize = fertilize.quantile(0.75)\n",
    "iiq_fertilize = q3_fertilize - q1_fertilize\n",
    "\n",
    "# Métricas dobrendimento por hectares\n",
    "# Tendências\n",
    "media_rendimento = rendimento.mean()\n",
    "mediana_rendimento = rendimento.median()\n",
    "moda_rendimento = rendimento.mode()\n",
    "# Dispersões\n",
    "dp_rendimento = rendimento.std(ddof=0)\n",
    "var_rendimento = rendimento.var(ddof=0)\n",
    "amplit_rendimento = rendimento.max() - rendimento.min()\n",
    "q1_rendimento = rendimento.quantile(0.25)\n",
    "q3_rendimento = rendimento.quantile(0.75)\n",
    "iiq_rendimento = q3_rendimento - q1_rendimento\n",
    "\n",
    "print('=='*60)\n",
    "print(\"Resumo Estatístico:\")\n",
    "print(\"IDADE DAS MUDAS\")\n",
    "print(f\"A média das idades das mudas de cana-de-açúcar é {media_idade:.2f} meses\")\n",
    "print(f\"A mediana é {mediana_idade:.2f} meses\")\n",
    "print(f\"A frequência das idades é de {moda_idade}\")\n",
    "print(f\"A varância populacional das idades é {var_idade}\")\n",
    "print(f\"O desvio padrão populacional das idades é {dp_idade}\")\n",
    "print(f\"A amplitude das idades é {amplit_idade}\")\n",
    "print(f\"Primeiro quartil (25%): {q1_idade} e terceiro quartil (75%): {q3_idade}\")\n",
    "print(f\"O intervalo inter quartil é {iiq_idade}\")\n",
    "print(\"\")\n",
    "print(\"Uso de Fertilizantes em Kg\")\n",
    "print(f\"A média do uso de fertilizantes é {media_fertilize:.2f} Kg\")\n",
    "print(f\"A mediana de fertilizantes é {mediana_fertilize:.2f} Kg\")\n",
    "print(f\"A frequência do uso de fertilizantes é {moda_fertilize}\")\n",
    "print(f\"A varância populacional dos fertilizantes é {var_fertilize}\")\n",
    "print(f\"O desvio padrão populacional dos fertilizantes é {dp_fertilize}\")\n",
    "print(f\"A amplitude dos dados dos fertilizantes é {amplit_fertilize}\")\n",
    "print(f\"Primeiro quartil (25%): {q1_fertilize} e terceiro quartil (75%): {q3_fertilize}\")\n",
    "print(f\"O intervalo inter quartil dos dados dos fertilizantes é {iiq_fertilize}\")\n",
    "print(\"\")\n",
    "print(\"Rendimento por Hectares\")\n",
    "print(f\"A média do rendimento das mudas por hectares é {media_rendimento:.2f} Kg\")\n",
    "print(f\"A mediana do rendimento é {mediana_rendimento:.2f} Kg\")\n",
    "print(f\"A frequência do rendimento é {moda_rendimento}\")\n",
    "print(f\"A varância populacional do rendimento é {var_rendimento}\")\n",
    "print(f\"O desvio padrão populacional do rendimento é {dp_rendimento}\")\n",
    "print(f\"A amplitude do rendimento é {amplit_rendimento} Kg\")\n",
    "print(f\"Primeiro quartil (25%): {q1_rendimento} e terceiro quartil(75%): {q3_rendimento}\")\n",
    "print(f\"O intervalo inter quartil é {iiq_rendimento}\")\n",
    "\n",
    "print('=='*60)\n"
   ]
  },
  {
   "cell_type": "markdown",
   "id": "682d13f3",
   "metadata": {},
   "source": [
    "### 🧠 <b>Interpretação Sobre a Distribuição dos Dados</b>  \n",
    "* <b>IDADES DAS MUDAS:</B>  \n",
    "De acordo com as medidas de tendência central, podemos <b>*estimar*</b> que os dados possuem pouca <b>*variabilidade*</b>, pois a média e a mediana estão bem <b>*próximas*</b> e a moda está <b>*concentrada*</b> em 2 e 3 meses.  \n",
    "As medidas de dispersão, reforçam que a maioria das mudas tem idades próximas de 3 meses, como vemos na <b>*baixa*</b> variância e desvio padrão. Os quartis e o IIQ, <b>*indicam*</b> que a distribuição dos dados está <b>*concentrada*</b> em torno da mediana, indicando mais uma vez a <b>*baixa dispersão*</b>.  \n",
    "Logo podemos dizer que os dados estão mais <b>*homogênios*</b>.  \n",
    "\n",
    "* <b>FERTILIZANTES:</b>  \n",
    "A média e a mediana mais uma vez estão bem próximas, o que dá a impressão de uma distribuição assimétrica, mas quando olhamos para variância e o desvio padrão, percebemos significativamente a variação no uso dos fertilizantes pelos produtores.  \n",
    "Ao olharmos os quartis e o intervalo interquartil, podemos perceber que 50% dos dados estão dentro de um intervalo de 26 Kg, ou seja, metade dos dados é agrupada, a outra metade tem uma variação considerálvel.  \n",
    "<b>OBS: Não sabemos se as variações no uso dos fertilizantes é devido ao clima ou devido a diferentes práticas agrícolas.</b>  \n",
    "\n",
    "\n",
    "* <b>RENDIMENTO POR HECTARES (em Kg)</b>  \n",
    "Novamente vemos simetria na distribuição dos rendimentos, a variância e desvio padrão nos mostram baixa dispersão em relação à média, indicando que os rendimentos são consistentes.  \n",
    "    Quando olhamos para os quartis e o intervalo interquartil, os dados nos mostram que a metade central dos rendimentos está dentro de um intervalo relativamente estreito, reafirmando uma boa consistência nos rendimentos.\n"
   ]
  },
  {
   "cell_type": "code",
   "execution_count": 16,
   "id": "70d53747",
   "metadata": {},
   "outputs": [
    {
     "data": {
      "text/html": [
       "<div>\n",
       "<style scoped>\n",
       "    .dataframe tbody tr th:only-of-type {\n",
       "        vertical-align: middle;\n",
       "    }\n",
       "\n",
       "    .dataframe tbody tr th {\n",
       "        vertical-align: top;\n",
       "    }\n",
       "\n",
       "    .dataframe thead th {\n",
       "        text-align: right;\n",
       "    }\n",
       "</style>\n",
       "<table border=\"1\" class=\"dataframe\">\n",
       "  <thead>\n",
       "    <tr style=\"text-align: right;\">\n",
       "      <th></th>\n",
       "      <th>id_plantio</th>\n",
       "      <th>idade_muda_meses</th>\n",
       "      <th>fertilizante_kg_hectare</th>\n",
       "      <th>rendimento_ton_hectare</th>\n",
       "      <th>ph_solo</th>\n",
       "      <th>teor_sacarose_percent</th>\n",
       "      <th>regiao</th>\n",
       "    </tr>\n",
       "  </thead>\n",
       "  <tbody>\n",
       "    <tr>\n",
       "      <th>0</th>\n",
       "      <td>1</td>\n",
       "      <td>2</td>\n",
       "      <td>100</td>\n",
       "      <td>85.5</td>\n",
       "      <td>6.5</td>\n",
       "      <td>14.2</td>\n",
       "      <td>Mata Norte</td>\n",
       "    </tr>\n",
       "    <tr>\n",
       "      <th>1</th>\n",
       "      <td>2</td>\n",
       "      <td>3</td>\n",
       "      <td>120</td>\n",
       "      <td>92.1</td>\n",
       "      <td>6.8</td>\n",
       "      <td>15.1</td>\n",
       "      <td>Mata Norte</td>\n",
       "    </tr>\n",
       "    <tr>\n",
       "      <th>2</th>\n",
       "      <td>3</td>\n",
       "      <td>2</td>\n",
       "      <td>110</td>\n",
       "      <td>88.0</td>\n",
       "      <td>6.6</td>\n",
       "      <td>14.5</td>\n",
       "      <td>Mata Norte</td>\n",
       "    </tr>\n",
       "    <tr>\n",
       "      <th>3</th>\n",
       "      <td>4</td>\n",
       "      <td>4</td>\n",
       "      <td>130</td>\n",
       "      <td>95.0</td>\n",
       "      <td>7.0</td>\n",
       "      <td>15.5</td>\n",
       "      <td>Mata Norte</td>\n",
       "    </tr>\n",
       "    <tr>\n",
       "      <th>4</th>\n",
       "      <td>5</td>\n",
       "      <td>3</td>\n",
       "      <td>115</td>\n",
       "      <td>90.5</td>\n",
       "      <td>6.7</td>\n",
       "      <td>14.8</td>\n",
       "      <td>Mata Norte</td>\n",
       "    </tr>\n",
       "  </tbody>\n",
       "</table>\n",
       "</div>"
      ],
      "text/plain": [
       "   id_plantio  idade_muda_meses  fertilizante_kg_hectare  \\\n",
       "0           1                 2                      100   \n",
       "1           2                 3                      120   \n",
       "2           3                 2                      110   \n",
       "3           4                 4                      130   \n",
       "4           5                 3                      115   \n",
       "\n",
       "   rendimento_ton_hectare  ph_solo  teor_sacarose_percent      regiao  \n",
       "0                    85.5      6.5                   14.2  Mata Norte  \n",
       "1                    92.1      6.8                   15.1  Mata Norte  \n",
       "2                    88.0      6.6                   14.5  Mata Norte  \n",
       "3                    95.0      7.0                   15.5  Mata Norte  \n",
       "4                    90.5      6.7                   14.8  Mata Norte  "
      ]
     },
     "execution_count": 16,
     "metadata": {},
     "output_type": "execute_result"
    }
   ],
   "source": [
    "df.head()"
   ]
  },
  {
   "cell_type": "markdown",
   "id": "c8edd195",
   "metadata": {},
   "source": [
    "### 🧮 <b>Calculando Média e Desvio Padrão do Rendimento por Hectares para cada Regiao (Mata Norte e Mata Sul).</b>"
   ]
  },
  {
   "cell_type": "code",
   "execution_count": 6,
   "id": "1631338a",
   "metadata": {},
   "outputs": [
    {
     "data": {
      "text/html": [
       "<div>\n",
       "<style scoped>\n",
       "    .dataframe tbody tr th:only-of-type {\n",
       "        vertical-align: middle;\n",
       "    }\n",
       "\n",
       "    .dataframe tbody tr th {\n",
       "        vertical-align: top;\n",
       "    }\n",
       "\n",
       "    .dataframe thead th {\n",
       "        text-align: right;\n",
       "    }\n",
       "</style>\n",
       "<table border=\"1\" class=\"dataframe\">\n",
       "  <thead>\n",
       "    <tr style=\"text-align: right;\">\n",
       "      <th></th>\n",
       "      <th>mean</th>\n",
       "      <th>std</th>\n",
       "    </tr>\n",
       "    <tr>\n",
       "      <th>regiao</th>\n",
       "      <th></th>\n",
       "      <th></th>\n",
       "    </tr>\n",
       "  </thead>\n",
       "  <tbody>\n",
       "    <tr>\n",
       "      <th>Mata Norte</th>\n",
       "      <td>91.05</td>\n",
       "      <td>4.44</td>\n",
       "    </tr>\n",
       "    <tr>\n",
       "      <th>Mata Sul</th>\n",
       "      <td>90.25</td>\n",
       "      <td>5.73</td>\n",
       "    </tr>\n",
       "  </tbody>\n",
       "</table>\n",
       "</div>"
      ],
      "text/plain": [
       "             mean   std\n",
       "regiao                 \n",
       "Mata Norte  91.05  4.44\n",
       "Mata Sul    90.25  5.73"
      ]
     },
     "execution_count": 6,
     "metadata": {},
     "output_type": "execute_result"
    }
   ],
   "source": [
    "estatisticas_regiao = df.groupby('regiao')['rendimento_ton_hectare'].agg(['mean', 'std'])\n",
    "\n",
    "estatisticas_regiao.round(2)"
   ]
  },
  {
   "cell_type": "markdown",
   "id": "1e88d3b8",
   "metadata": {},
   "source": [
    "### 📊 <b>Gráfico de barras do rendimento médio por região. </b>"
   ]
  },
  {
   "cell_type": "code",
   "execution_count": 7,
   "id": "80239b7b",
   "metadata": {},
   "outputs": [
    {
     "data": {
      "image/png": "[encoded data removed]",
      "text/plain": [
       "<Figure size 576x576 with 1 Axes>"
      ]
     },
     "metadata": {
      "needs_background": "light"
     },
     "output_type": "display_data"
    }
   ],
   "source": [
    "# Agrupando por região e calcular a média do rendimento\n",
    "media_rendimento = df.groupby('regiao')['rendimento_ton_hectare'].mean()\n",
    "\n",
    "plt.figure(figsize=(8,8))\n",
    "\n",
    "media_rendimento.plot(kind='bar', color=['#1f77b4', '#ff7f0e'])\n",
    "\n",
    "# Adicionar rótulos e título\n",
    "plt.title('Rendimento Médio por Região')\n",
    "plt.xlabel('Região')\n",
    "plt.ylabel('Rendimento (ton/hectare)')\n",
    "plt.xticks(rotation=0)\n",
    "plt.grid(axis='y', linestyle='--', alpha=0.7)\n",
    "\n",
    "# Exibir os valores nas barras\n",
    "for i, valor in enumerate(media_rendimento):\n",
    "    plt.text(i, valor + 0.5, f'{valor:.1f}', ha='center', fontweight='bold')\n",
    "\n",
    "plt.tight_layout()\n",
    "plt.show()"
   ]
  },
  {
   "cell_type": "markdown",
   "id": "42ffca3e",
   "metadata": {},
   "source": [
    "### 📊 <b>Box plot do rendimento por regiao.</b>"
   ]
  },
  {
   "cell_type": "code",
   "execution_count": 8,
   "id": "c6978574",
   "metadata": {
    "scrolled": false
   },
   "outputs": [
    {
     "name": "stderr",
     "output_type": "stream",
     "text": [
      "C:\\Users\\luciu\\AppData\\Local\\Temp\\ipykernel_14132\\2023336503.py:5: FutureWarning: \n",
      "\n",
      "Passing `palette` without assigning `hue` is deprecated and will be removed in v0.14.0. Assign the `x` variable to `hue` and set `legend=False` for the same effect.\n",
      "\n",
      "  sns.boxplot(x='regiao', y='rendimento_ton_hectare', data=df, palette='Set2')\n"
     ]
    },
    {
     "data": {
      "image/png": "[encoded data removed]",
      "text/plain": [
       "<Figure size 576x432 with 1 Axes>"
      ]
     },
     "metadata": {
      "needs_background": "light"
     },
     "output_type": "display_data"
    }
   ],
   "source": [
    "# Tamanho do gráfico\n",
    "plt.figure(figsize=(8, 6))\n",
    "\n",
    "# Box plot do rendimento por região\n",
    "sns.boxplot(x='regiao', y='rendimento_ton_hectare', data=df, palette='Set2')\n",
    "\n",
    "# Adicionar título e rótulos\n",
    "plt.title('Distribuição do Rendimento por Região')\n",
    "plt.xlabel('Região')\n",
    "plt.ylabel('Rendimento (ton/hectare)')\n",
    "plt.grid(axis='y', linestyle='--', alpha=0.6)\n",
    "\n",
    "plt.tight_layout()\n",
    "plt.show()"
   ]
  },
  {
   "cell_type": "markdown",
   "id": "f808c86c",
   "metadata": {},
   "source": [
    "### 🧠 Interpretação do Box Plot \n",
    "📊 <b>Mediana</b>   \n",
    "A mediana da Mata Norte é maior que a da Mata Sul, isto indica que metade dos plantios na Mata Norte produzem mais em comparação com a Mata Sul.  \n",
    "📦 <b>Dispersão dos Dados - IIQ:</b>  \n",
    "A altura da caixa na Mata Sul, indica maior variabilidade no rendimento entre os plantios, mostrando que alguns rendem bem e outros não.  \n",
    "📐 <b>Outliers</b>   \n",
    "Não há outliers visíveis no box plot de nenhuma das regiões, indicando que os rendimentos estão relativamente distribuídos.  \n",
    "📋 <b>Resumo Geral</b>   \n",
    "A Mata Norte tem rendimento mais estável e levemente superior, enquanto a Mata Sul é mais variável, o que pode refletir diferenças no solo, clima, manejo agrícola ou aplicação de fertilizantes."
   ]
  },
  {
   "cell_type": "markdown",
   "id": "401a2a50",
   "metadata": {},
   "source": [
    "### 📊 Gráfico de Dispersão (scatterplot) do Rendimento vs. Fertilizante"
   ]
  },
  {
   "cell_type": "code",
   "execution_count": 9,
   "id": "94b2525b",
   "metadata": {},
   "outputs": [
    {
     "data": {
      "image/png": "[encoded data removed]",
      "text/plain": [
       "<Figure size 576x432 with 1 Axes>"
      ]
     },
     "metadata": {
      "needs_background": "light"
     },
     "output_type": "display_data"
    }
   ],
   "source": [
    "# Gráfico de dispersão\n",
    "plt.figure(figsize=(8, 6))\n",
    "plt.scatter(df['fertilizante_kg_hectare'], df['rendimento_ton_hectare'], color='teal', alpha=0.7)\n",
    "\n",
    "# Títulos e rótulos\n",
    "plt.title('Rendimento vs. Uso de Fertilizante')\n",
    "plt.xlabel('Fertilizante (kg/hectare)')\n",
    "plt.ylabel('Rendimento (ton/hectare)')\n",
    "plt.grid(True, linestyle='--', alpha=0.5)\n",
    "\n",
    "plt.tight_layout()\n",
    "plt.show()"
   ]
  },
  {
   "cell_type": "markdown",
   "id": "d72f07ad",
   "metadata": {},
   "source": [
    "### 📊 Gráfico de Dispersão do Rendimento vs. Idade das Mudas"
   ]
  },
  {
   "cell_type": "code",
   "execution_count": 10,
   "id": "f0b82596",
   "metadata": {},
   "outputs": [
    {
     "data": {
      "image/png": "[encoded data removed]",
      "text/plain": [
       "<Figure size 576x432 with 1 Axes>"
      ]
     },
     "metadata": {
      "needs_background": "light"
     },
     "output_type": "display_data"
    }
   ],
   "source": [
    "# Gráfico de dispersão: Rendimento vs Idade das mudas\n",
    "plt.figure(figsize=(8, 6))\n",
    "plt.scatter(df['idade_muda_meses'], df['rendimento_ton_hectare'], color='darkorange', alpha=0.7)\n",
    "\n",
    "# Títulos e rótulos\n",
    "plt.title('Rendimento vs. Idade das Mudas')\n",
    "plt.xlabel('Idade da Muda (meses)')\n",
    "plt.ylabel('Rendimento (ton/hectare)')\n",
    "plt.grid(True, linestyle='--', alpha=0.5)\n",
    "\n",
    "plt.tight_layout()\n",
    "plt.show()"
   ]
  },
  {
   "cell_type": "markdown",
   "id": "83341d76",
   "metadata": {},
   "source": [
    "### 🧠 Interpretação da Relação Observada em cada Gráfico (positiva, negativa, nula, força)."
   ]
  },
  {
   "cell_type": "markdown",
   "id": "3ac9a980",
   "metadata": {},
   "source": [
    "<b>Relação entre as variáveis:</b>  \n",
    "* A relação é positiva: conforme a idade da muda aumenta, o rendimento tende a aumentar.  \n",
    "\n",
    "* A tendência é bem definida: há uma distribuição crescente clara conforme a idade vai de 2 para 5 meses.  \n",
    "\n",
    "* A relação aparenta ser forte: os pontos estão concentrados verticalmente por idade, e o rendimento sobe visivelmente de grupo para grupo.  \n",
    "\n",
    "* Não há dispersão aleatória: a relação não é nula.  "
   ]
  },
  {
   "cell_type": "markdown",
   "id": "d0c32e2d",
   "metadata": {},
   "source": [
    "### 🧮 Probabilidades e Intervalo de Confiança"
   ]
  },
  {
   "cell_type": "code",
   "execution_count": 11,
   "id": "c0c6011a",
   "metadata": {},
   "outputs": [
    {
     "name": "stdout",
     "output_type": "stream",
     "text": [
      "Probabilidade de teor de sacarose > 15.0%: 40.00%\n"
     ]
    }
   ],
   "source": [
    "# Total de observações\n",
    "total = len(df)\n",
    "\n",
    "# Contagem de casos com teor de sacarose > 15.0%\n",
    "acima_15 = len(df[df['teor_sacarose_percent'] > 15.0])\n",
    "\n",
    "# Probabilidade (proporção)\n",
    "probabilidade = acima_15 / total\n",
    "\n",
    "# Exibir resultado\n",
    "print(f\"Probabilidade de teor de sacarose > 15.0%: {probabilidade:.2%}\")"
   ]
  },
  {
   "cell_type": "markdown",
   "id": "5a68396c",
   "metadata": {},
   "source": [
    "### 📌 Assumindo que o ph_solo segue uma distribuição normal, qual a probabilidade de um novo plantio ter um ph_solo entre 6.5 e 7.0? "
   ]
  },
  {
   "cell_type": "code",
   "execution_count": 12,
   "id": "f17170a4",
   "metadata": {},
   "outputs": [
    {
     "name": "stdout",
     "output_type": "stream",
     "text": [
      "Probabilidade de pH entre 6.5 e 7.0: 65.48%\n"
     ]
    }
   ],
   "source": [
    "from scipy.stats import norm\n",
    "\n",
    "# Calcular média e desvio padrão do pH\n",
    "media_ph = df['ph_solo'].mean()\n",
    "desvio_ph = df['ph_solo'].std()\n",
    "\n",
    "# Calcular probabilidades acumuladas\n",
    "p_7 = norm.cdf(7.0, loc=media_ph, scale=desvio_ph)\n",
    "p_65 = norm.cdf(6.5, loc=media_ph, scale=desvio_ph)\n",
    "\n",
    "# Probabilidade entre 6.5 e 7.0\n",
    "probabilidade = p_7 - p_65\n",
    "\n",
    "# Exibir resultado\n",
    "print(f\"Probabilidade de pH entre 6.5 e 7.0: {probabilidade:.2%}\")"
   ]
  },
  {
   "cell_type": "markdown",
   "id": "ca0bcc36",
   "metadata": {},
   "source": [
    "<b>Probabilidade de pH entre 6.5 e 7.0: 65.48%</b>"
   ]
  },
  {
   "cell_type": "markdown",
   "id": "c2ade6d4",
   "metadata": {},
   "source": [
    "### 🧮 Calculando o intervalo de confiança de 95% para a média do rendimento por hectares de todos os plantios, usando os dados da amostra."
   ]
  },
  {
   "cell_type": "code",
   "execution_count": 13,
   "id": "e5ec4215",
   "metadata": {},
   "outputs": [
    {
     "name": "stdout",
     "output_type": "stream",
     "text": [
      "Intervalo de confiança de 95% para a média do rendimento:\n",
      "(88.84, 92.46) toneladas/hectare\n"
     ]
    }
   ],
   "source": [
    "# Parâmetros da amostra\n",
    "media = df['rendimento_ton_hectare'].mean()\n",
    "desvio = df['rendimento_ton_hectare'].std(ddof=1)  # amostral\n",
    "n = len(df)\n",
    "\n",
    "# Nível de confiança de 95%\n",
    "z = 1.96\n",
    "\n",
    "# Erro padrão da média\n",
    "erro_padrao = desvio / np.sqrt(n)\n",
    "\n",
    "# Intervalo de confiança\n",
    "limite_inferior = media - z * erro_padrao\n",
    "limite_superior = media + z * erro_padrao\n",
    "\n",
    "# Resultado\n",
    "print(f\"Intervalo de confiança de 95% para a média do rendimento:\")\n",
    "print(f\"({limite_inferior:.2f}, {limite_superior:.2f}) toneladas/hectare\")"
   ]
  },
  {
   "cell_type": "markdown",
   "id": "48e5ec4d",
   "metadata": {},
   "source": [
    "### 🧠 Interpretação do intgervalo de confiança\n",
    "Podemos dizer, com 95% de confiança, que a média real do rendimento por hectare de todos os plantios (ou seja, da população) está entre 88,84 e 92,46 toneladas/hectare."
   ]
  },
  {
   "cell_type": "code",
   "execution_count": null,
   "id": "4917cf3a",
   "metadata": {},
   "outputs": [],
   "source": []
  }
 ],
 "metadata": {
  "kernelspec": {
   "display_name": "Python 3 (ipykernel)",
   "language": "python",
   "name": "python3"
  },
  "language_info": {
   "codemirror_mode": {
    "name": "ipython",
    "version": 3
   },
   "file_extension": ".py",
   "mimetype": "text/x-python",
   "name": "python",
   "nbconvert_exporter": "python",
   "pygments_lexer": "ipython3",
   "version": "3.10.2"
  }
 },
 "nbformat": 4,
 "nbformat_minor": 5
}
